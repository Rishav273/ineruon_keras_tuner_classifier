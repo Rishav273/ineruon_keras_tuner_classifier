{
  "nbformat": 4,
  "nbformat_minor": 0,
  "metadata": {
    "colab": {
      "name": "Ineuron image classification Keras tuner.ipynb",
      "provenance": [],
      "collapsed_sections": [],
      "mount_file_id": "1Ctz58Wy5MYzftiLSKMFpQ4m0jO3L7ctc",
      "authorship_tag": "ABX9TyMX1DbuXN+Uhz2gvVSPZEi9",
      "include_colab_link": true
    },
    "kernelspec": {
      "name": "python3",
      "display_name": "Python 3"
    },
    "language_info": {
      "name": "python"
    },
    "accelerator": "GPU"
  },
  "cells": [
    {
      "cell_type": "markdown",
      "metadata": {
        "id": "view-in-github",
        "colab_type": "text"
      },
      "source": [
        "<a href=\"https://colab.research.google.com/github/Rishav273/ineruon_keras_tuner_classifier/blob/branch_1/Ineuron_image_classification_Keras_tuner.ipynb\" target=\"_parent\"><img src=\"https://colab.research.google.com/assets/colab-badge.svg\" alt=\"Open In Colab\"/></a>"
      ]
    },
    {
      "cell_type": "code",
      "metadata": {
        "colab": {
          "base_uri": "https://localhost:8080/"
        },
        "id": "5XZ8cio_OM6a",
        "outputId": "96c90a21-9f51-4126-f651-84bc650c14bd"
      },
      "source": [
        "!pip install keras-tuner\n",
        "!pip install split-folders"
      ],
      "execution_count": null,
      "outputs": [
        {
          "output_type": "stream",
          "name": "stdout",
          "text": [
            "Requirement already satisfied: keras-tuner in /usr/local/lib/python3.7/dist-packages (1.0.4)\n",
            "Requirement already satisfied: scipy in /usr/local/lib/python3.7/dist-packages (from keras-tuner) (1.4.1)\n",
            "Requirement already satisfied: packaging in /usr/local/lib/python3.7/dist-packages (from keras-tuner) (21.0)\n",
            "Requirement already satisfied: numpy in /usr/local/lib/python3.7/dist-packages (from keras-tuner) (1.19.5)\n",
            "Requirement already satisfied: ipython in /usr/local/lib/python3.7/dist-packages (from keras-tuner) (5.5.0)\n",
            "Requirement already satisfied: tensorboard in /usr/local/lib/python3.7/dist-packages (from keras-tuner) (2.6.0)\n",
            "Requirement already satisfied: kt-legacy in /usr/local/lib/python3.7/dist-packages (from keras-tuner) (1.0.4)\n",
            "Requirement already satisfied: requests in /usr/local/lib/python3.7/dist-packages (from keras-tuner) (2.23.0)\n",
            "Requirement already satisfied: traitlets>=4.2 in /usr/local/lib/python3.7/dist-packages (from ipython->keras-tuner) (5.0.5)\n",
            "Requirement already satisfied: pygments in /usr/local/lib/python3.7/dist-packages (from ipython->keras-tuner) (2.6.1)\n",
            "Requirement already satisfied: decorator in /usr/local/lib/python3.7/dist-packages (from ipython->keras-tuner) (4.4.2)\n",
            "Requirement already satisfied: prompt-toolkit<2.0.0,>=1.0.4 in /usr/local/lib/python3.7/dist-packages (from ipython->keras-tuner) (1.0.18)\n",
            "Requirement already satisfied: pickleshare in /usr/local/lib/python3.7/dist-packages (from ipython->keras-tuner) (0.7.5)\n",
            "Requirement already satisfied: simplegeneric>0.8 in /usr/local/lib/python3.7/dist-packages (from ipython->keras-tuner) (0.8.1)\n",
            "Requirement already satisfied: setuptools>=18.5 in /usr/local/lib/python3.7/dist-packages (from ipython->keras-tuner) (57.4.0)\n",
            "Requirement already satisfied: pexpect in /usr/local/lib/python3.7/dist-packages (from ipython->keras-tuner) (4.8.0)\n",
            "Requirement already satisfied: wcwidth in /usr/local/lib/python3.7/dist-packages (from prompt-toolkit<2.0.0,>=1.0.4->ipython->keras-tuner) (0.2.5)\n",
            "Requirement already satisfied: six>=1.9.0 in /usr/local/lib/python3.7/dist-packages (from prompt-toolkit<2.0.0,>=1.0.4->ipython->keras-tuner) (1.15.0)\n",
            "Requirement already satisfied: ipython-genutils in /usr/local/lib/python3.7/dist-packages (from traitlets>=4.2->ipython->keras-tuner) (0.2.0)\n",
            "Requirement already satisfied: pyparsing>=2.0.2 in /usr/local/lib/python3.7/dist-packages (from packaging->keras-tuner) (2.4.7)\n",
            "Requirement already satisfied: ptyprocess>=0.5 in /usr/local/lib/python3.7/dist-packages (from pexpect->ipython->keras-tuner) (0.7.0)\n",
            "Requirement already satisfied: chardet<4,>=3.0.2 in /usr/local/lib/python3.7/dist-packages (from requests->keras-tuner) (3.0.4)\n",
            "Requirement already satisfied: urllib3!=1.25.0,!=1.25.1,<1.26,>=1.21.1 in /usr/local/lib/python3.7/dist-packages (from requests->keras-tuner) (1.24.3)\n",
            "Requirement already satisfied: idna<3,>=2.5 in /usr/local/lib/python3.7/dist-packages (from requests->keras-tuner) (2.10)\n",
            "Requirement already satisfied: certifi>=2017.4.17 in /usr/local/lib/python3.7/dist-packages (from requests->keras-tuner) (2021.5.30)\n",
            "Requirement already satisfied: markdown>=2.6.8 in /usr/local/lib/python3.7/dist-packages (from tensorboard->keras-tuner) (3.3.4)\n",
            "Requirement already satisfied: tensorboard-plugin-wit>=1.6.0 in /usr/local/lib/python3.7/dist-packages (from tensorboard->keras-tuner) (1.8.0)\n",
            "Requirement already satisfied: protobuf>=3.6.0 in /usr/local/lib/python3.7/dist-packages (from tensorboard->keras-tuner) (3.17.3)\n",
            "Requirement already satisfied: google-auth<2,>=1.6.3 in /usr/local/lib/python3.7/dist-packages (from tensorboard->keras-tuner) (1.34.0)\n",
            "Requirement already satisfied: tensorboard-data-server<0.7.0,>=0.6.0 in /usr/local/lib/python3.7/dist-packages (from tensorboard->keras-tuner) (0.6.1)\n",
            "Requirement already satisfied: werkzeug>=0.11.15 in /usr/local/lib/python3.7/dist-packages (from tensorboard->keras-tuner) (1.0.1)\n",
            "Requirement already satisfied: wheel>=0.26 in /usr/local/lib/python3.7/dist-packages (from tensorboard->keras-tuner) (0.37.0)\n",
            "Requirement already satisfied: google-auth-oauthlib<0.5,>=0.4.1 in /usr/local/lib/python3.7/dist-packages (from tensorboard->keras-tuner) (0.4.5)\n",
            "Requirement already satisfied: grpcio>=1.24.3 in /usr/local/lib/python3.7/dist-packages (from tensorboard->keras-tuner) (1.39.0)\n",
            "Requirement already satisfied: absl-py>=0.4 in /usr/local/lib/python3.7/dist-packages (from tensorboard->keras-tuner) (0.12.0)\n",
            "Requirement already satisfied: pyasn1-modules>=0.2.1 in /usr/local/lib/python3.7/dist-packages (from google-auth<2,>=1.6.3->tensorboard->keras-tuner) (0.2.8)\n",
            "Requirement already satisfied: cachetools<5.0,>=2.0.0 in /usr/local/lib/python3.7/dist-packages (from google-auth<2,>=1.6.3->tensorboard->keras-tuner) (4.2.2)\n",
            "Requirement already satisfied: rsa<5,>=3.1.4 in /usr/local/lib/python3.7/dist-packages (from google-auth<2,>=1.6.3->tensorboard->keras-tuner) (4.7.2)\n",
            "Requirement already satisfied: requests-oauthlib>=0.7.0 in /usr/local/lib/python3.7/dist-packages (from google-auth-oauthlib<0.5,>=0.4.1->tensorboard->keras-tuner) (1.3.0)\n",
            "Requirement already satisfied: importlib-metadata in /usr/local/lib/python3.7/dist-packages (from markdown>=2.6.8->tensorboard->keras-tuner) (4.6.4)\n",
            "Requirement already satisfied: pyasn1<0.5.0,>=0.4.6 in /usr/local/lib/python3.7/dist-packages (from pyasn1-modules>=0.2.1->google-auth<2,>=1.6.3->tensorboard->keras-tuner) (0.4.8)\n",
            "Requirement already satisfied: oauthlib>=3.0.0 in /usr/local/lib/python3.7/dist-packages (from requests-oauthlib>=0.7.0->google-auth-oauthlib<0.5,>=0.4.1->tensorboard->keras-tuner) (3.1.1)\n",
            "Requirement already satisfied: typing-extensions>=3.6.4 in /usr/local/lib/python3.7/dist-packages (from importlib-metadata->markdown>=2.6.8->tensorboard->keras-tuner) (3.7.4.3)\n",
            "Requirement already satisfied: zipp>=0.5 in /usr/local/lib/python3.7/dist-packages (from importlib-metadata->markdown>=2.6.8->tensorboard->keras-tuner) (3.5.0)\n",
            "Requirement already satisfied: split-folders in /usr/local/lib/python3.7/dist-packages (0.4.3)\n"
          ]
        }
      ]
    },
    {
      "cell_type": "code",
      "metadata": {
        "id": "MaudpTbFOMzb"
      },
      "source": [
        "import os\n",
        "import cv2\n",
        "import numpy as np\n",
        "from sklearn.utils import shuffle\n",
        "import tensorflow as tf\n",
        "import splitfolders\n",
        "from tqdm import tqdm\n",
        "import matplotlib.pyplot as plt\n",
        "\n",
        "# model\n",
        "from keras.models import Sequential\n",
        "from keras.layers import Dense, Flatten, Conv2D, MaxPool2D\n",
        "from keras_tuner.tuners import RandomSearch"
      ],
      "execution_count": null,
      "outputs": []
    },
    {
      "cell_type": "code",
      "metadata": {
        "colab": {
          "base_uri": "https://localhost:8080/",
          "height": 35
        },
        "id": "8uDkdLI2OMUw",
        "outputId": "17aea37c-3dc0-44b9-a055-0488e625477e"
      },
      "source": [
        "tf.test.gpu_device_name()"
      ],
      "execution_count": null,
      "outputs": [
        {
          "output_type": "execute_result",
          "data": {
            "application/vnd.google.colaboratory.intrinsic+json": {
              "type": "string"
            },
            "text/plain": [
              "'/device:GPU:0'"
            ]
          },
          "metadata": {},
          "execution_count": 3
        }
      ]
    },
    {
      "cell_type": "code",
      "metadata": {
        "colab": {
          "base_uri": "https://localhost:8080/"
        },
        "id": "EZePj_nBPHrL",
        "outputId": "f26d2710-6af9-4b70-9fae-83fdf6e070e6"
      },
      "source": [
        "# Split data into training and validation data\n",
        "splitfolders.ratio(input=r\"/content/drive/MyDrive/dataset\",\n",
        "                   output=\"img_clf_dataset\",\n",
        "                   seed=1337,\n",
        "                   ratio=(.8, .1, .1)\n",
        "                   )"
      ],
      "execution_count": null,
      "outputs": [
        {
          "output_type": "stream",
          "name": "stderr",
          "text": [
            "Copying files: 712 files [03:18,  3.58 files/s]\n"
          ]
        }
      ]
    },
    {
      "cell_type": "code",
      "metadata": {
        "id": "GCsoJQvWOEOu"
      },
      "source": [
        "class_names = ['cat', 'dog', 'lion', 'deer', 'elephant']\n",
        "class_names_label = {class_name:i for i, class_name in enumerate(class_names)}\n",
        "\n",
        "nb_classes = len(class_names)\n",
        "\n",
        "IMAGE_SIZE = 150\n"
      ],
      "execution_count": null,
      "outputs": []
    },
    {
      "cell_type": "code",
      "metadata": {
        "id": "xf6RVDGpTmnB"
      },
      "source": [
        "# batch size\n",
        "BS = 32"
      ],
      "execution_count": null,
      "outputs": []
    },
    {
      "cell_type": "code",
      "metadata": {
        "id": "DuoW9kTuQDV4"
      },
      "source": [
        "TRAIN_DIR = \"/content/img_clf_dataset/train\"\n",
        "TEST_DIR = \"/content/img_clf_dataset/test\"\n",
        "VAL_DIR = \"/content/img_clf_dataset/val\""
      ],
      "execution_count": null,
      "outputs": []
    },
    {
      "cell_type": "code",
      "metadata": {
        "id": "nybOJVIgNs_b"
      },
      "source": [
        "def load_dataset():\n",
        "\n",
        "    TRAIN_DIR = \"/content/img_clf_dataset/train\"\n",
        "    TEST_DIR = \"/content/img_clf_dataset/test\"\n",
        "    VAL_DIR = \"/content/img_clf_dataset/val\"\n",
        "\n",
        "    datasets = [TRAIN_DIR, TEST_DIR,VAL_DIR]\n",
        "    output = []\n",
        "    \n",
        "    # Iterate through training and test sets\n",
        "    for dataset in datasets:\n",
        "        \n",
        "        images = []\n",
        "        labels = []\n",
        "        \n",
        "        print(\"Loading {}\".format(dataset))\n",
        "        \n",
        "        # Iterate through each folder corresponding to a category\n",
        "        for folder in os.listdir(dataset):\n",
        "            label = class_names_label[folder]\n",
        "            \n",
        "            # Iterate through each image in our folder\n",
        "            for file in tqdm(os.listdir(os.path.join(dataset, folder))):\n",
        "                \n",
        "                # Get the path name of the image\n",
        "                img_path = os.path.join(os.path.join(dataset, folder), file)\n",
        "                \n",
        "                # Open and resize the img\n",
        "                image = cv2.imread(img_path)\n",
        "                image = cv2.cvtColor(image, cv2.COLOR_BGR2RGB)\n",
        "                image = cv2.resize(image, (IMAGE_SIZE,IMAGE_SIZE)) \n",
        "                \n",
        "                # Append the image and its corresponding label to the output\n",
        "                images.append(image)\n",
        "                labels.append(label)\n",
        "                \n",
        "        images = np.array(images, dtype = 'float32')\n",
        "        labels = np.array(labels, dtype = 'int32')   \n",
        "        \n",
        "        output.append((images, labels))\n",
        "\n",
        "    return output"
      ],
      "execution_count": null,
      "outputs": []
    },
    {
      "cell_type": "code",
      "metadata": {
        "colab": {
          "base_uri": "https://localhost:8080/"
        },
        "id": "MYP742BBRDRq",
        "outputId": "860913e4-c854-4168-d88f-0ec4014e2372"
      },
      "source": [
        "(train_images, train_labels), (test_images, test_labels), (val_images,val_labels) = load_dataset()"
      ],
      "execution_count": null,
      "outputs": [
        {
          "output_type": "stream",
          "name": "stdout",
          "text": [
            "Loading /content/img_clf_dataset/train\n"
          ]
        },
        {
          "output_type": "stream",
          "name": "stderr",
          "text": [
            "100%|██████████| 110/110 [00:00<00:00, 149.52it/s]\n",
            "100%|██████████| 119/119 [00:00<00:00, 169.95it/s]\n",
            "100%|██████████| 111/111 [00:00<00:00, 184.31it/s]\n",
            "100%|██████████| 116/116 [00:00<00:00, 246.27it/s]\n",
            "100%|██████████| 112/112 [00:00<00:00, 202.39it/s]\n"
          ]
        },
        {
          "output_type": "stream",
          "name": "stdout",
          "text": [
            "Loading /content/img_clf_dataset/test\n"
          ]
        },
        {
          "output_type": "stream",
          "name": "stderr",
          "text": [
            "100%|██████████| 15/15 [00:00<00:00, 307.61it/s]\n",
            "100%|██████████| 16/16 [00:00<00:00, 1046.34it/s]\n",
            "100%|██████████| 15/15 [00:00<00:00, 62.23it/s]\n",
            "100%|██████████| 15/15 [00:00<00:00, 369.06it/s]\n",
            "100%|██████████| 15/15 [00:00<00:00, 306.03it/s]\n"
          ]
        },
        {
          "output_type": "stream",
          "name": "stdout",
          "text": [
            "Loading /content/img_clf_dataset/val\n"
          ]
        },
        {
          "output_type": "stream",
          "name": "stderr",
          "text": [
            "100%|██████████| 13/13 [00:00<00:00, 374.27it/s]\n",
            "100%|██████████| 14/14 [00:00<00:00, 467.49it/s]\n",
            "100%|██████████| 13/13 [00:00<00:00, 230.68it/s]\n",
            "100%|██████████| 14/14 [00:00<00:00, 101.97it/s]\n",
            "100%|██████████| 14/14 [00:00<00:00, 269.34it/s]\n"
          ]
        }
      ]
    },
    {
      "cell_type": "code",
      "metadata": {
        "id": "TiSnHKpWRL1T"
      },
      "source": [
        "train_images, train_labels = shuffle(train_images, train_labels, random_state=42)"
      ],
      "execution_count": null,
      "outputs": []
    },
    {
      "cell_type": "code",
      "metadata": {
        "colab": {
          "base_uri": "https://localhost:8080/"
        },
        "id": "zxGdDrTPRich",
        "outputId": "ea6252af-64e3-4606-bce4-e3b6880a4260"
      },
      "source": [
        "train_images[0]"
      ],
      "execution_count": null,
      "outputs": [
        {
          "output_type": "execute_result",
          "data": {
            "text/plain": [
              "array([[[250., 250., 250.],\n",
              "        [250., 250., 250.],\n",
              "        [250., 250., 250.],\n",
              "        ...,\n",
              "        [250., 250., 250.],\n",
              "        [250., 250., 250.],\n",
              "        [250., 250., 250.]],\n",
              "\n",
              "       [[250., 250., 250.],\n",
              "        [250., 250., 250.],\n",
              "        [250., 250., 250.],\n",
              "        ...,\n",
              "        [250., 250., 250.],\n",
              "        [250., 250., 250.],\n",
              "        [250., 250., 250.]],\n",
              "\n",
              "       [[250., 250., 250.],\n",
              "        [250., 250., 250.],\n",
              "        [250., 250., 250.],\n",
              "        ...,\n",
              "        [250., 250., 250.],\n",
              "        [250., 250., 250.],\n",
              "        [250., 250., 250.]],\n",
              "\n",
              "       ...,\n",
              "\n",
              "       [[250., 250., 250.],\n",
              "        [250., 250., 250.],\n",
              "        [250., 250., 250.],\n",
              "        ...,\n",
              "        [250., 250., 250.],\n",
              "        [250., 250., 250.],\n",
              "        [250., 250., 250.]],\n",
              "\n",
              "       [[250., 250., 250.],\n",
              "        [250., 250., 250.],\n",
              "        [250., 250., 250.],\n",
              "        ...,\n",
              "        [250., 250., 250.],\n",
              "        [250., 250., 250.],\n",
              "        [250., 250., 250.]],\n",
              "\n",
              "       [[250., 250., 250.],\n",
              "        [250., 250., 250.],\n",
              "        [250., 250., 250.],\n",
              "        ...,\n",
              "        [250., 250., 250.],\n",
              "        [250., 250., 250.],\n",
              "        [250., 250., 250.]]], dtype=float32)"
            ]
          },
          "metadata": {},
          "execution_count": 10
        }
      ]
    },
    {
      "cell_type": "markdown",
      "metadata": {
        "id": "llxU5X9SR17z"
      },
      "source": [
        "## The collected dataset is more or less balanced"
      ]
    },
    {
      "cell_type": "code",
      "metadata": {
        "colab": {
          "base_uri": "https://localhost:8080/",
          "height": 299
        },
        "id": "q7wEgLavRkEO",
        "outputId": "f0523a64-4e40-4e2f-c502-9bb273ece33f"
      },
      "source": [
        "import pandas as pd\n",
        "\n",
        "_, train_counts = np.unique(train_labels, return_counts=True)\n",
        "_, test_counts = np.unique(test_labels, return_counts=True)\n",
        "pd.DataFrame({'train': train_counts,\n",
        "                    'test': test_counts}, \n",
        "             index=class_names\n",
        "            ).plot.bar()\n",
        "plt.show()"
      ],
      "execution_count": null,
      "outputs": [
        {
          "output_type": "display_data",
          "data": {
            "image/png": "[encoded data removed]",
            "text/plain": [
              "<Figure size 432x288 with 1 Axes>"
            ]
          },
          "metadata": {
            "needs_background": "light"
          }
        }
      ]
    },
    {
      "cell_type": "markdown",
      "metadata": {
        "id": "5FKRqeYLSDjD"
      },
      "source": [
        "## Normalizing pixel values"
      ]
    },
    {
      "cell_type": "code",
      "metadata": {
        "id": "hLGOSXvHRsZL"
      },
      "source": [
        "train_images = train_images / 255.0 \n",
        "test_images = test_images / 255.0"
      ],
      "execution_count": null,
      "outputs": []
    },
    {
      "cell_type": "code",
      "metadata": {
        "id": "YfUxZrnIV947"
      },
      "source": [
        "val_images = val_images / 255.0"
      ],
      "execution_count": null,
      "outputs": []
    },
    {
      "cell_type": "code",
      "metadata": {
        "id": "27OZ0jiFSBU1"
      },
      "source": [
        "def display_random_image(class_names, images, labels):\n",
        "    \"\"\"\n",
        "        Display a random image from the images array and its correspond label from the labels array.\n",
        "    \"\"\"\n",
        "    \n",
        "    index = np.random.randint(images.shape[0])\n",
        "    plt.figure()\n",
        "    plt.imshow(images[index])\n",
        "    plt.xticks([])\n",
        "    plt.yticks([])\n",
        "    plt.grid(False)\n",
        "    plt.title('Image #{} : '.format(index) + class_names[labels[index]])\n",
        "    plt.show()"
      ],
      "execution_count": null,
      "outputs": []
    },
    {
      "cell_type": "code",
      "metadata": {
        "colab": {
          "base_uri": "https://localhost:8080/",
          "height": 268
        },
        "id": "Z_u3AOrOSO9B",
        "outputId": "51212fdb-fc5b-40c3-9696-34c872f8123a"
      },
      "source": [
        "display_random_image(class_names, train_images, train_labels)"
      ],
      "execution_count": null,
      "outputs": [
        {
          "output_type": "display_data",
          "data": {
            "image/png": "[encoded data removed]",
            "text/plain": [
              "<Figure size 432x288 with 1 Axes>"
            ]
          },
          "metadata": {}
        }
      ]
    },
    {
      "cell_type": "code",
      "metadata": {
        "id": "EhQNQYcDSSbr"
      },
      "source": [
        "# baseline architecture\n",
        "nn_model = Sequential()\n",
        "nn_model.add(Conv2D(filters=32,kernel_size=(3,3),input_shape=(IMAGE_SIZE,IMAGE_SIZE,3)))\n",
        "nn_model.add(MaxPool2D(pool_size=(2,2)))\n",
        "nn_model.add(Conv2D(filters=64,kernel_size=(3,3)))\n",
        "nn_model.add(MaxPool2D(pool_size=(2,2)))\n",
        "nn_model.add(Flatten())\n",
        "nn_model.add(Dense(64,activation=\"relu\"))\n",
        "nn_model.add(Dense(5,activation=\"softmax\"))\n",
        "\n",
        "nn_model.compile(optimizer=\"adam\",loss=\"sparse_categorical_crossentropy\",metrics=[\"accuracy\"])"
      ],
      "execution_count": null,
      "outputs": []
    },
    {
      "cell_type": "code",
      "metadata": {
        "colab": {
          "base_uri": "https://localhost:8080/"
        },
        "id": "ZQrmmcSBSqof",
        "outputId": "ce1f7d6f-363a-4758-9265-c07c28609a6b"
      },
      "source": [
        "nn_model.summary()"
      ],
      "execution_count": null,
      "outputs": [
        {
          "output_type": "stream",
          "name": "stdout",
          "text": [
            "Model: \"sequential\"\n",
            "_________________________________________________________________\n",
            "Layer (type)                 Output Shape              Param #   \n",
            "=================================================================\n",
            "conv2d (Conv2D)              (None, 148, 148, 32)      896       \n",
            "_________________________________________________________________\n",
            "max_pooling2d (MaxPooling2D) (None, 74, 74, 32)        0         \n",
            "_________________________________________________________________\n",
            "conv2d_1 (Conv2D)            (None, 72, 72, 64)        18496     \n",
            "_________________________________________________________________\n",
            "max_pooling2d_1 (MaxPooling2 (None, 36, 36, 64)        0         \n",
            "_________________________________________________________________\n",
            "flatten (Flatten)            (None, 82944)             0         \n",
            "_________________________________________________________________\n",
            "dense (Dense)                (None, 64)                5308480   \n",
            "_________________________________________________________________\n",
            "dense_1 (Dense)              (None, 5)                 325       \n",
            "=================================================================\n",
            "Total params: 5,328,197\n",
            "Trainable params: 5,328,197\n",
            "Non-trainable params: 0\n",
            "_________________________________________________________________\n"
          ]
        }
      ]
    },
    {
      "cell_type": "code",
      "metadata": {
        "colab": {
          "base_uri": "https://localhost:8080/"
        },
        "id": "eFh7_fxtTJ2E",
        "outputId": "b7712d69-8972-4a3b-bbf2-b4339cde3ca7"
      },
      "source": [
        "history = nn_model.fit(train_images,train_labels,epochs=30,batch_size=BS,validation_data=(val_images,val_labels))"
      ],
      "execution_count": null,
      "outputs": [
        {
          "output_type": "stream",
          "name": "stdout",
          "text": [
            "Epoch 1/30\n",
            "18/18 [==============================] - 3s 76ms/step - loss: 4.6257 - accuracy: 0.2465 - val_loss: 1.7025 - val_accuracy: 0.3235\n",
            "Epoch 2/30\n",
            "18/18 [==============================] - 1s 42ms/step - loss: 1.4737 - accuracy: 0.3820 - val_loss: 1.5380 - val_accuracy: 0.3824\n",
            "Epoch 3/30\n",
            "18/18 [==============================] - 1s 41ms/step - loss: 1.3889 - accuracy: 0.4137 - val_loss: 1.4520 - val_accuracy: 0.3824\n",
            "Epoch 4/30\n",
            "18/18 [==============================] - 1s 42ms/step - loss: 1.2267 - accuracy: 0.5405 - val_loss: 1.3864 - val_accuracy: 0.4706\n",
            "Epoch 5/30\n",
            "18/18 [==============================] - 1s 42ms/step - loss: 1.1629 - accuracy: 0.5581 - val_loss: 1.4657 - val_accuracy: 0.4706\n",
            "Epoch 6/30\n",
            "18/18 [==============================] - 1s 44ms/step - loss: 1.0257 - accuracy: 0.6197 - val_loss: 1.4389 - val_accuracy: 0.4265\n",
            "Epoch 7/30\n",
            "18/18 [==============================] - 1s 42ms/step - loss: 0.9181 - accuracy: 0.6866 - val_loss: 1.5190 - val_accuracy: 0.4265\n",
            "Epoch 8/30\n",
            "18/18 [==============================] - 1s 42ms/step - loss: 0.8685 - accuracy: 0.6937 - val_loss: 1.3313 - val_accuracy: 0.5441\n",
            "Epoch 9/30\n",
            "18/18 [==============================] - 1s 42ms/step - loss: 0.7607 - accuracy: 0.7447 - val_loss: 1.4744 - val_accuracy: 0.5000\n",
            "Epoch 10/30\n",
            "18/18 [==============================] - 1s 42ms/step - loss: 0.6805 - accuracy: 0.7958 - val_loss: 1.3455 - val_accuracy: 0.5294\n",
            "Epoch 11/30\n",
            "18/18 [==============================] - 1s 42ms/step - loss: 0.5532 - accuracy: 0.8680 - val_loss: 1.4032 - val_accuracy: 0.4265\n",
            "Epoch 12/30\n",
            "18/18 [==============================] - 1s 42ms/step - loss: 0.4791 - accuracy: 0.8732 - val_loss: 1.2945 - val_accuracy: 0.6324\n",
            "Epoch 13/30\n",
            "18/18 [==============================] - 1s 41ms/step - loss: 0.3796 - accuracy: 0.9120 - val_loss: 1.4259 - val_accuracy: 0.5735\n",
            "Epoch 14/30\n",
            "18/18 [==============================] - 1s 42ms/step - loss: 0.3101 - accuracy: 0.9313 - val_loss: 1.4256 - val_accuracy: 0.5000\n",
            "Epoch 15/30\n",
            "18/18 [==============================] - 1s 42ms/step - loss: 0.2810 - accuracy: 0.9401 - val_loss: 1.4772 - val_accuracy: 0.5588\n",
            "Epoch 16/30\n",
            "18/18 [==============================] - 1s 42ms/step - loss: 0.2247 - accuracy: 0.9648 - val_loss: 1.4091 - val_accuracy: 0.5147\n",
            "Epoch 17/30\n",
            "18/18 [==============================] - 1s 42ms/step - loss: 0.1707 - accuracy: 0.9789 - val_loss: 1.4768 - val_accuracy: 0.6029\n",
            "Epoch 18/30\n",
            "18/18 [==============================] - 1s 41ms/step - loss: 0.1472 - accuracy: 0.9842 - val_loss: 1.5998 - val_accuracy: 0.6029\n",
            "Epoch 19/30\n",
            "18/18 [==============================] - 1s 43ms/step - loss: 0.1022 - accuracy: 0.9912 - val_loss: 1.7492 - val_accuracy: 0.5588\n",
            "Epoch 20/30\n",
            "18/18 [==============================] - 1s 42ms/step - loss: 0.0718 - accuracy: 0.9965 - val_loss: 1.7171 - val_accuracy: 0.5441\n",
            "Epoch 21/30\n",
            "18/18 [==============================] - 1s 43ms/step - loss: 0.0575 - accuracy: 0.9947 - val_loss: 1.8694 - val_accuracy: 0.5441\n",
            "Epoch 22/30\n",
            "18/18 [==============================] - 1s 42ms/step - loss: 0.0492 - accuracy: 0.9982 - val_loss: 1.9780 - val_accuracy: 0.5294\n",
            "Epoch 23/30\n",
            "18/18 [==============================] - 1s 42ms/step - loss: 0.0480 - accuracy: 0.9947 - val_loss: 1.9529 - val_accuracy: 0.4853\n",
            "Epoch 24/30\n",
            "18/18 [==============================] - 1s 42ms/step - loss: 0.0333 - accuracy: 0.9982 - val_loss: 1.9960 - val_accuracy: 0.5441\n",
            "Epoch 25/30\n",
            "18/18 [==============================] - 1s 42ms/step - loss: 0.0240 - accuracy: 1.0000 - val_loss: 2.1256 - val_accuracy: 0.5294\n",
            "Epoch 26/30\n",
            "18/18 [==============================] - 1s 42ms/step - loss: 0.0192 - accuracy: 1.0000 - val_loss: 2.1659 - val_accuracy: 0.5588\n",
            "Epoch 27/30\n",
            "18/18 [==============================] - 1s 42ms/step - loss: 0.0168 - accuracy: 1.0000 - val_loss: 2.2025 - val_accuracy: 0.5441\n",
            "Epoch 28/30\n",
            "18/18 [==============================] - 1s 42ms/step - loss: 0.0151 - accuracy: 1.0000 - val_loss: 2.2207 - val_accuracy: 0.5588\n",
            "Epoch 29/30\n",
            "18/18 [==============================] - 1s 42ms/step - loss: 0.0131 - accuracy: 1.0000 - val_loss: 2.2680 - val_accuracy: 0.5441\n",
            "Epoch 30/30\n",
            "18/18 [==============================] - 1s 42ms/step - loss: 0.0118 - accuracy: 1.0000 - val_loss: 2.2558 - val_accuracy: 0.5441\n"
          ]
        }
      ]
    },
    {
      "cell_type": "markdown",
      "metadata": {
        "id": "jsto97XjWubE"
      },
      "source": [
        "## Hyperparameter tuning"
      ]
    },
    {
      "cell_type": "code",
      "metadata": {
        "id": "PWN0ag-NWwuL"
      },
      "source": [
        "# model building function\n",
        "\n",
        "def build_nn(hp):\n",
        "\n",
        "  model = Sequential()\n",
        "  model.add(Conv2D(filters=hp.Int(\"Conv1\",min_value=32, max_value=96, step=32),\n",
        "                    kernel_size=hp.Choice(\"Conv1\",values=[3,6]),padding=\"same\",\n",
        "                    activation=\"relu\",\n",
        "                    input_shape=(IMAGE_SIZE,IMAGE_SIZE,3)))\n",
        "  model.add(MaxPool2D(pool_size=(2,2)))\n",
        "  model.add(Conv2D(filters=hp.Int(\"Conv2\",min_value=64, max_value=96, step=32),\n",
        "                    kernel_size=hp.Choice(\"Conv2\",values=[3,6]),padding=\"same\",\n",
        "                    activation=\"relu\"))\n",
        "  model.add(MaxPool2D(pool_size=(2,2)))  \n",
        "  model.add(Flatten())\n",
        "  model.add(Dense(64,activation=\"relu\"))\n",
        "  model.add(Dense(5,activation=\"softmax\"))\n",
        "\n",
        "  # compile\n",
        "  learning_rate = hp.Choice(\"Learning rate\",values=[1e-3,1e-4])\n",
        "  model.compile(optimizer=tf.keras.optimizers.Adam(learning_rate=learning_rate),\n",
        "                loss=\"sparse_categorical_crossentropy\",\n",
        "                metrics=['accuracy'])\n",
        "  return model"
      ],
      "execution_count": null,
      "outputs": []
    },
    {
      "cell_type": "code",
      "metadata": {
        "colab": {
          "base_uri": "https://localhost:8080/"
        },
        "id": "Lkbj74liaZll",
        "outputId": "4b24475f-4165-4250-e8af-50c5b85e2713"
      },
      "source": [
        "# Instantiate randomSearch tuner\n",
        "tuner = RandomSearch(build_nn,\n",
        "                   objective=\"val_accuracy\",\n",
        "                   overwrite=False,\n",
        "                   max_trials=2,\n",
        "                   executions_per_trial=1,\n",
        "                   directory=\"output\",\n",
        "                   project_name=\"img_classifier\"\n",
        "                   )"
      ],
      "execution_count": null,
      "outputs": [
        {
          "output_type": "stream",
          "name": "stdout",
          "text": [
            "INFO:tensorflow:Reloading Oracle from existing project output/img_classifier/oracle.json\n"
          ]
        }
      ]
    },
    {
      "cell_type": "code",
      "metadata": {
        "colab": {
          "base_uri": "https://localhost:8080/"
        },
        "id": "hPcgD7-Aacfu",
        "outputId": "9fae40f0-e22c-40b8-aa3f-85636112dbc5"
      },
      "source": [
        "tuner.search_space_summary()"
      ],
      "execution_count": null,
      "outputs": [
        {
          "output_type": "stream",
          "name": "stdout",
          "text": [
            "Search space summary\n",
            "Default search space size: 3\n",
            "Conv1 (Int)\n",
            "{'default': None, 'conditions': [], 'min_value': 32, 'max_value': 96, 'step': 32, 'sampling': None}\n",
            "Conv2 (Int)\n",
            "{'default': None, 'conditions': [], 'min_value': 64, 'max_value': 96, 'step': 32, 'sampling': None}\n",
            "Learning rate (Choice)\n",
            "{'default': 0.001, 'conditions': [], 'values': [0.001, 0.0001], 'ordered': True}\n"
          ]
        }
      ]
    },
    {
      "cell_type": "code",
      "metadata": {
        "colab": {
          "base_uri": "https://localhost:8080/"
        },
        "id": "E-XU7iGJaexn",
        "outputId": "9eddad5c-f14c-419f-d8bb-5611cf96fd80"
      },
      "source": [
        "tuner.search(train_images, train_labels, epochs=5, validation_data=(val_images, val_labels))"
      ],
      "execution_count": null,
      "outputs": [
        {
          "output_type": "stream",
          "name": "stdout",
          "text": [
            "Trial 2 Complete [00h 03m 33s]\n",
            "val_accuracy: 0.20588235557079315\n",
            "\n",
            "Best val_accuracy So Far: 0.20588235557079315\n",
            "Total elapsed time: 01h 18m 03s\n",
            "INFO:tensorflow:Oracle triggered exit\n"
          ]
        }
      ]
    },
    {
      "cell_type": "code",
      "metadata": {
        "id": "nk38lBuBarJH"
      },
      "source": [
        "best_model = tuner.get_best_models()[0]"
      ],
      "execution_count": null,
      "outputs": []
    },
    {
      "cell_type": "code",
      "metadata": {
        "id": "wxcKhyKMHhZx"
      },
      "source": [
        "# make predicions using best model\n",
        "predictions = np.argmax(best_model.predict(test_images),axis=1)"
      ],
      "execution_count": null,
      "outputs": []
    },
    {
      "cell_type": "code",
      "metadata": {
        "id": "BKIzYqVAH1X2"
      },
      "source": [
        ""
      ],
      "execution_count": null,
      "outputs": []
    }
  ]
}